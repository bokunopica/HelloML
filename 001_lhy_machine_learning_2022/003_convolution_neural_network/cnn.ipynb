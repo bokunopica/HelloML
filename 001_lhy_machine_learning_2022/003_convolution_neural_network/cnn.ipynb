{
 "cells": [
  {
   "attachments": {},
   "cell_type": "markdown",
   "metadata": {},
   "source": [
    "![](../img/image_tensor_structrue.png)\n",
    "\n",
    "tensor: 张量 高维矩阵\n",
    "\n",
    "channels: RGB通道"
   ]
  },
  {
   "attachments": {},
   "cell_type": "markdown",
   "metadata": {},
   "source": [
    "![](../img/image_simplification001.png)"
   ]
  },
  {
   "attachments": {},
   "cell_type": "markdown",
   "metadata": {},
   "source": [
    "每一个Receptive Field只关注自己的那一块区域\n",
    "![](../img/image_simplification002.png)\n",
    "\n",
    "同样的Receptive Field也可以重叠\n",
    "![](../img/image_simplification003.png)\n",
    "\n",
    "\n",
    "Q: 不同的神经元可以有不同大小的感受野(receptive field)吗？\n",
    "A：可以\n",
    "\n",
    "Q: 感受野必须要覆盖多个RGB通道吗？\n",
    "A：不\n",
    "\n",
    "Q: 感受野必须为正方形吗？\n",
    "A：不"
   ]
  },
  {
   "attachments": {},
   "cell_type": "markdown",
   "metadata": {},
   "source": [
    "![](../img/image_simplification004.png)\n",
    "\n",
    "### 名词解释:\n",
    "* kernal size 感受野在单个通道上的大小 比如说:3*3的正方形\n",
    "* stride 感受野移动时的步长 垂直或水平\n",
    "* overlap 感受野之间重叠的部分\n",
    "* padding 感受野如果有部分在图片外，则会对溢出图片区域的部分进行padding(填充)操作"
   ]
  }
 ],
 "metadata": {
  "kernelspec": {
   "display_name": ".venv",
   "language": "python",
   "name": "python3"
  },
  "language_info": {
   "codemirror_mode": {
    "name": "ipython",
    "version": 3
   },
   "file_extension": ".py",
   "mimetype": "text/x-python",
   "name": "python",
   "nbconvert_exporter": "python",
   "pygments_lexer": "ipython3",
   "version": "3.10.10"
  },
  "orig_nbformat": 4
 },
 "nbformat": 4,
 "nbformat_minor": 2
}
