{
 "cells": [
  {
   "attachments": {},
   "cell_type": "markdown",
   "metadata": {},
   "source": [
    "## GenerativeAdversarialNetwork - GAN\n",
    "#### Generator\n",
    "![](img/GAN001.png)\n",
    "\n",
    "#### Discriminator\n",
    "![](img/GAN002.png)\n",
    "![](img/GAN003.png)\n",
    "\n",
    "\n",
    "#### training\n",
    "![](img/GAN004.png)\n",
    "\n",
    "\n",
    "#### JasenShannonDivergence\n",
    "- JS散度度量了两个概率分布的相似度\n",
    "- JS散度的问题\n",
    "\n",
    "![](img/GAN005.png)\n",
    "\n",
    "\n",
    "#### Wasserstein distance\n",
    "- 用来解决JS散度的缺陷\n",
    "\n",
    "![](img/GAN006.png)\n",
    "\n",
    "### GAN改进\n",
    "#### WGAN\n",
    "![](img/GAN007.png)\n",
    "\n",
    "\n"
   ]
  },
  {
   "attachments": {},
   "cell_type": "markdown",
   "metadata": {},
   "source": [
    "### GAN生成图像的评估\n",
    "![](img/GAN008.png)"
   ]
  },
  {
   "attachments": {},
   "cell_type": "markdown",
   "metadata": {},
   "source": [
    "### Conditional GAN\n",
    "- Generator的输入\n",
    "  - 图像\n",
    "  - 文字\n",
    "- Discriminator判别\n",
    "  - 图像分布\n",
    "  - 是否符合文字标签(通过成对资料来训练)\n",
    "\n",
    "![](img/GAN009.png)\n",
    "![](img/GAN010.png)\n"
   ]
  },
  {
   "attachments": {},
   "cell_type": "markdown",
   "metadata": {},
   "source": [
    "### Cycle GAN\n",
    "![](img/GAN011.png)\n",
    "![](img/GAN012.png)\n"
   ]
  },
  {
   "attachments": {},
   "cell_type": "markdown",
   "metadata": {},
   "source": [
    "### Diffusion\n",
    "![](img/DIFFUSION.png)\n",
    "\n",
    "### DALL-E\n",
    "![](img/DALLE.png)"
   ]
  },
  {
   "attachments": {},
   "cell_type": "markdown",
   "metadata": {},
   "source": [
    "### 高斯混合模型\n",
    "![](img/GaussianMixtureModel.png)"
   ]
  }
 ],
 "metadata": {
  "language_info": {
   "name": "python"
  },
  "orig_nbformat": 4
 },
 "nbformat": 4,
 "nbformat_minor": 2
}
