{
 "cells": [
  {
   "attachments": {},
   "cell_type": "markdown",
   "metadata": {},
   "source": [
    "## GAN\n",
    "#### Generator\n",
    "![](img/GAN001.png)\n",
    "\n",
    "#### Discriminator\n",
    "![](img/GAN002.png)\n",
    "![](img/GAN003.png)\n",
    "\n",
    "\n",
    "#### training\n",
    "![](img/GAN004.png)\n",
    "\n",
    "\n",
    "#### JasenShannonDivergence\n",
    "- JS散度度量了两个概率分布的相似度\n",
    "- JS散度的问题\n",
    "\n",
    "![](img/GAN005.png)\n",
    "\n",
    "\n",
    "#### Wasserstein distance\n",
    "- 用来解决JS散度的缺陷\n",
    "![](img/GAN006.png)\n",
    "\n",
    "### GAN改进\n",
    "#### WGAN\n",
    "![](img/GAN007.png)\n",
    "\n",
    "\n"
   ]
  }
 ],
 "metadata": {
  "language_info": {
   "name": "python"
  },
  "orig_nbformat": 4
 },
 "nbformat": 4,
 "nbformat_minor": 2
}
