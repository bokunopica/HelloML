{
 "cells": [
  {
   "attachments": {},
   "cell_type": "markdown",
   "metadata": {},
   "source": [
    "## 伯努利概型\n",
    "### 通用公式：\n",
    "$P(y|\\theta)=\\begin{cases}\n",
    "\\theta&y=1\\\\\n",
    "1-\\theta&y=1\n",
    "\\end{cases}$\n",
    "### 即：\n",
    "$P(y|\\theta)=\\theta^y(1-\\theta)^{1-y}$\n"
   ]
  },
  {
   "attachments": {},
   "cell_type": "markdown",
   "metadata": {},
   "source": [
    "## 交叉熵"
   ]
  }
 ],
 "metadata": {
  "language_info": {
   "name": "python"
  },
  "orig_nbformat": 4
 },
 "nbformat": 4,
 "nbformat_minor": 2
}
