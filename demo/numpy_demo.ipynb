{
 "cells": [
  {
   "cell_type": "code",
   "execution_count": 1,
   "metadata": {},
   "outputs": [],
   "source": [
    "import numpy as np"
   ]
  },
  {
   "cell_type": "code",
   "execution_count": 4,
   "metadata": {},
   "outputs": [
    {
     "data": {
      "text/plain": [
       "array([1.1, 1.1, 1. , 1. , 1. ])"
      ]
     },
     "execution_count": 4,
     "metadata": {},
     "output_type": "execute_result"
    }
   ],
   "source": [
    "np.round([1.11,1.11,1,1,1], 1)"
   ]
  },
  {
   "cell_type": "code",
   "execution_count": 9,
   "metadata": {},
   "outputs": [
    {
     "data": {
      "text/plain": [
       "array([[[[0.]],\n",
       "\n",
       "        [[0.]],\n",
       "\n",
       "        [[0.]]],\n",
       "\n",
       "\n",
       "       [[[0.]],\n",
       "\n",
       "        [[0.]],\n",
       "\n",
       "        [[0.]]],\n",
       "\n",
       "\n",
       "       [[[0.]],\n",
       "\n",
       "        [[0.]],\n",
       "\n",
       "        [[0.]]],\n",
       "\n",
       "\n",
       "       [[[0.]],\n",
       "\n",
       "        [[0.]],\n",
       "\n",
       "        [[0.]]],\n",
       "\n",
       "\n",
       "       [[[0.]],\n",
       "\n",
       "        [[0.]],\n",
       "\n",
       "        [[0.]]]])"
      ]
     },
     "execution_count": 9,
     "metadata": {},
     "output_type": "execute_result"
    }
   ],
   "source": [
    "np.zeros(shape=(5, 3, 1, 1))"
   ]
  },
  {
   "cell_type": "code",
   "execution_count": 13,
   "metadata": {},
   "outputs": [
    {
     "name": "stdout",
     "output_type": "stream",
     "text": [
      "['He', 'likes', 'cats', 'He', 'does', 'not', 'like', 'cats']\n",
      "{'He': 3, 'likes': 1, 'cats': 7, 'does': 4, 'not': 5, 'like': 6}\n",
      "{3: 'He', 1: 'likes', 7: 'cats', 4: 'does', 5: 'not', 6: 'like'}\n",
      "[3, 1, 7]\n",
      "[3, 4, 5, 6, 7]\n",
      "[[3, 1, 7], [3, 4, 5, 6, 7]]\n"
     ]
    }
   ],
   "source": [
    "s1 = 'He likes cats'\n",
    "s2 = 'He does not like cats'\n",
    "s = s1.split(' ') + s2.split(' ')\n",
    "print(s)\n",
    "word_to_id = dict(zip(s, range(len(s))))\n",
    "print(word_to_id)\n",
    "id_to_word = dict((k,v) for v,k in word_to_id.items())\n",
    "print(id_to_word)\n",
    "s1_vector = [word_to_id[x] for x in s1.split(' ')]\n",
    "print(s1_vector)\n",
    "s2_vector = [word_to_id[x] for x in s2.split(' ')]\n",
    "print(s2_vector)\n",
    "sentBatch = [s1_vector, s2_vector]\n",
    "print(sentBatch)"
   ]
  }
 ],
 "metadata": {
  "kernelspec": {
   "display_name": ".venv",
   "language": "python",
   "name": "python3"
  },
  "language_info": {
   "codemirror_mode": {
    "name": "ipython",
    "version": 3
   },
   "file_extension": ".py",
   "mimetype": "text/x-python",
   "name": "python",
   "nbconvert_exporter": "python",
   "pygments_lexer": "ipython3",
   "version": "3.10.10"
  },
  "orig_nbformat": 4
 },
 "nbformat": 4,
 "nbformat_minor": 2
}
