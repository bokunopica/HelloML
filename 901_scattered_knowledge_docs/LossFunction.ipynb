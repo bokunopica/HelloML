{
 "cells": [
  {
   "attachments": {},
   "cell_type": "markdown",
   "metadata": {},
   "source": [
    "## 统计学模型分支：观测变量X, 目标变量Y\n",
    "1. 生成模型 Generative Model\n",
    "    - 估计p(X, Y) = p(Y)p(X|Y) = p(Y|X)p(X)\n",
    "2. 判别模型 Discrimitive Model\n",
    "    - 估计p(Y|X)"
   ]
  },
  {
   "attachments": {},
   "cell_type": "markdown",
   "metadata": {},
   "source": [
    "### 判别模型代价函数与最大似然估计的关系\n",
    "![](img/maximumLikelihoodEstimation.png)\n"
   ]
  },
  {
   "attachments": {},
   "cell_type": "markdown",
   "metadata": {},
   "source": [
    "## 回归模型损失函数\n",
    "1. 均方误差损失MSE\n",
    "    - L2损失\n",
    "    - 应对outlier比较差-误差高的时候衰减非常快，容易接近于0\n",
    "    - ![](img/mse.png)\n",
    "2. 绝对值误差MAE\n",
    "    - L1损失\n",
    "    - 梯度下降比MSE比较难收敛 因为斜率固定\n",
    "    - ![](img/mae.png)\n",
    "3. Huber Loss\n",
    "    - ![](img/huber.png)\n",
    "    - MSE与MAE的结合优化\n",
    "\n",
    "\n",
    "### Outlier问题\n",
    "![](img/distribution001.png)\n",
    "可以选取MAE或Huber来替代MSE\n",
    "\n",
    "### 非对称损失函数\n",
    "![](img/asymmetry_loss000.png)\n",
    "![](img/asymmetry_loss001.png)"
   ]
  },
  {
   "attachments": {},
   "cell_type": "markdown",
   "metadata": {},
   "source": [
    "## 分类模型的损失函数\n",
    "1. 交叉熵损失\n",
    "    - 极大似然估计推导\n",
    "    ![](img/cross_entropy001.png)\n",
    "    - KL散度(相对熵)推导\n",
    "    ![](img/cross_entropy002.png)\n",
    "2. 合页损失\n",
    "    ![](img/hinge_loss.png)\n",
    "\n",
    "\n",
    "### 用损失函数减少样本不均衡的方法\n",
    "1. focal loss\n",
    "    - 为了解决不均衡以及难样本问题\n",
    "![](img/focal.png)\n",
    "1. GHM\n",
    "    - 减少过难样本(异常值)的权重\n",
    "    - 减少易分样本的权重\n",
    "![](img/GHM001.png)\n",
    "![](img/GHM002.png)"
   ]
  }
 ],
 "metadata": {
  "language_info": {
   "name": "python"
  },
  "orig_nbformat": 4
 },
 "nbformat": 4,
 "nbformat_minor": 2
}
