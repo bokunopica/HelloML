{
 "cells": [
  {
   "attachments": {},
   "cell_type": "markdown",
   "metadata": {},
   "source": [
    "# general guide\n",
    "![优化算法的攻略](../img/general_guide_of_DL.png)"
   ]
  },
  {
   "attachments": {},
   "cell_type": "markdown",
   "metadata": {},
   "source": [
    "## 梯度下降可能遇到的问题\n",
    "1. 鞍点\n",
    "    - 导数为0的点(驻点 critical point)不一定为极值点\n",
    "    - 通过计算hession矩阵的特征值$\\lambda$来确定是否为极小值点\n",
    "      - $\\lambda$有正有负 鞍点\n",
    "      - $\\lambda$均为负 极大值点\n",
    "      - $\\lambda$均为正 极小值点 成立\n",
    "    - 逃离方法\n",
    "      - 根据负特征值的特征向量来调整(实际很少使用 很难算)\n",
    "2. "
   ]
  },
  {
   "attachments": {},
   "cell_type": "markdown",
   "metadata": {},
   "source": [
    "## Batch\n",
    "- hyperParameter\n",
    "- 完整数据集可以分为若干个Batch，1次epoch中对应了若干个update， 每个update对应一个batch\n",
    "<table>\n",
    "    <tr>\n",
    "        <th></th>\n",
    "        <th>Small Batch</th>\n",
    "        <th>Large Batch</th>\n",
    "    </tr>\n",
    "    <tr>\n",
    "        <td>speed for one update(no parallel)</td>\n",
    "        <td>Faster</td>\n",
    "        <td>Slow</td>\n",
    "    </tr>\n",
    "    <tr>\n",
    "        <td>speed for one update(with parallel)</td>\n",
    "        <td>Same</td>\n",
    "        <td>Same(not too large)</td>\n",
    "    </tr>\n",
    "    <tr>\n",
    "        <td>time for one epoch</td>\n",
    "        <td>Slower</td>\n",
    "        <td>Faster</td>\n",
    "    </tr>\n",
    "    <tr>\n",
    "        <td>Gradient</td>\n",
    "        <td>Noisy</td>\n",
    "        <td>Stable</td>\n",
    "    </tr>\n",
    "    <tr>\n",
    "        <td>Optimization</td>\n",
    "        <td>Better</td>\n",
    "        <td>Worse</td>\n",
    "    </tr>\n",
    "    <tr>\n",
    "        <td>Generalization</td>\n",
    "        <td>Better</td>\n",
    "        <td>Worse</td>\n",
    "    </tr>\n",
    "</table>"
   ]
  },
  {
   "attachments": {},
   "cell_type": "markdown",
   "metadata": {},
   "source": [
    "## Momentum\n",
    "- hyperParameter\n",
    "- 梯度下降的惯性\n",
    "- movement with momentum: movement of last step minus gradius at present"
   ]
  }
 ],
 "metadata": {
  "language_info": {
   "name": "python"
  },
  "orig_nbformat": 4
 },
 "nbformat": 4,
 "nbformat_minor": 2
}
