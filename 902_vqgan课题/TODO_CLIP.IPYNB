{
 "cells": [
  {
   "cell_type": "code",
   "execution_count": null,
   "metadata": {},
   "outputs": [],
   "source": []
  },
  {
   "attachments": {},
   "cell_type": "markdown",
   "metadata": {},
   "source": [
    "# TODO\n",
    "1. CLIP原理的解释\n",
    "2. MedCLIP采取的一些优化\n",
    "   1. 数据集的一些问题\n",
    "   2. ....\n",
    "3. 跑通CLIP官方demo"
   ]
  }
 ],
 "metadata": {
  "language_info": {
   "name": "python"
  },
  "orig_nbformat": 4
 },
 "nbformat": 4,
 "nbformat_minor": 2
}
