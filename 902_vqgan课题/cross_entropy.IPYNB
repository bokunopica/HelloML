{
 "cells": [
  {
   "cell_type": "code",
   "execution_count": 1,
   "metadata": {},
   "outputs": [
    {
     "name": "stdout",
     "output_type": "stream",
     "text": [
      "Cross Entropy Loss: 2.4401896985611957\n",
      "Torch Cross Entropy Loss: 2.4401895999908447\n"
     ]
    }
   ],
   "source": [
    "import torch\n",
    "import numpy as np\n",
    "from torch.distributions import Categorical, kl\n",
    "from torch.nn import CrossEntropyLoss\n",
    "\n",
    "# Cross entropy loss\n",
    "p = [1, 2, 3, 4]\n",
    "q = [1] # [0, 1, 0, 0] = torch.nn.functional.one_hot(torch.tensor(q), len(p))\n",
    "\n",
    "celoss = -p[q[0]] + np.log(sum([np.exp(i) for i in p]))\n",
    "print (f\"Cross Entropy Loss: {celoss}\")\n",
    "\n",
    "loss = CrossEntropyLoss()\n",
    "tensor_p = torch.FloatTensor(p).unsqueeze(0)\n",
    "tensor_q = torch.tensor(q)\n",
    "output = loss(tensor_p, tensor_q)\n",
    "print (f\"Torch Cross Entropy Loss: {output.item()}\")"
   ]
  },
  {
   "cell_type": "code",
   "execution_count": 19,
   "metadata": {},
   "outputs": [],
   "source": [
    "loss = torch.nn.CrossEntropyLoss()\n",
    "# input = torch.randn(3, 5, requires_grad=True)\n",
    "input = torch.Tensor(\n",
    "    [[-0.4348, -1.0230,  2.1188, -0.3473,  0.1889],\n",
    "        [-0.3121,  1.3640,  0.1037, -0.8251, -0.1625],\n",
    "        [-1.4147,  0.3777, -0.8910,  1.1459,  0.0698]]\n",
    ")\n",
    "\n",
    "# target = torch.empty(3, dtype=torch.long).random_(5)\n",
    "\n",
    "target = torch.tensor([0,2,0])\n",
    "output = loss(input, target)"
   ]
  },
  {
   "cell_type": "code",
   "execution_count": 21,
   "metadata": {},
   "outputs": [
    {
     "name": "stdout",
     "output_type": "stream",
     "text": [
      "tensor(2.6542)\n"
     ]
    }
   ],
   "source": [
    "print(output)"
   ]
  },
  {
   "cell_type": "code",
   "execution_count": 22,
   "metadata": {},
   "outputs": [],
   "source": [
    "i_0 = torch.tensor([\n",
    "    [-0.4348, -1.0230,  2.1188, -0.3473,  0.1889],\n",
    "    # [-0.3121,  1.3640,  0.1037, -0.8251, -0.1625],\n",
    "    # [-1.4147,  0.3777, -0.8910,  1.1459,  0.0698]\n",
    "])\n",
    "i_1 = torch.tensor([\n",
    "    # [-0.4348, -1.0230,  2.1188, -0.3473,  0.1889],\n",
    "    [-0.3121,  1.3640,  0.1037, -0.8251, -0.1625],\n",
    "    # [-1.4147,  0.3777, -0.8910,  1.1459,  0.0698]\n",
    "])\n",
    "i_2 = torch.tensor([\n",
    "    # [-0.4348, -1.0230,  2.1188, -0.3473,  0.1889],\n",
    "    # [-0.3121,  1.3640,  0.1037, -0.8251, -0.1625],\n",
    "    [-1.4147,  0.3777, -0.8910,  1.1459,  0.0698]\n",
    "])\n",
    "t_0 = torch.tensor([0])\n",
    "t_1 = torch.tensor([2])\n",
    "t_2 = torch.tensor([0])\n",
    "o_0 = loss(i_0, t_0)\n",
    "o_1 = loss(i_1, t_1)\n",
    "o_2 = loss(i_2, t_2)\n"
   ]
  },
  {
   "cell_type": "code",
   "execution_count": 27,
   "metadata": {},
   "outputs": [
    {
     "data": {
      "text/plain": [
       "tensor(2.6542)"
      ]
     },
     "execution_count": 27,
     "metadata": {},
     "output_type": "execute_result"
    }
   ],
   "source": [
    "(o_0+o_1+o_2)/3"
   ]
  }
 ],
 "metadata": {
  "kernelspec": {
   "display_name": ".venv",
   "language": "python",
   "name": "python3"
  },
  "language_info": {
   "codemirror_mode": {
    "name": "ipython",
    "version": 3
   },
   "file_extension": ".py",
   "mimetype": "text/x-python",
   "name": "python",
   "nbconvert_exporter": "python",
   "pygments_lexer": "ipython3",
   "version": "3.10.10"
  },
  "orig_nbformat": 4
 },
 "nbformat": 4,
 "nbformat_minor": 2
}
